{
 "cells": [
  {
   "cell_type": "code",
   "execution_count": null,
   "metadata": {},
   "outputs": [],
   "source": [
    "import os\n",
    "\n",
    "import requests\n"
   ]
  },
  {
   "cell_type": "code",
   "execution_count": null,
   "metadata": {},
   "outputs": [],
   "source": [
    "# Setting user Parameters\n",
    "\n",
    "apiToken = \"API_TOKEN\" # Replace with Account API Token\n",
    "\n",
    "dataCenter = \"ca1\"\n",
    "\n",
    "\n",
    "surveyId = \"SV_0CkgAM0nY3GsB1j\"\n",
    "\n",
    "\n",
    "baseUrl = \"https://{0}.qualtrics.com/API/v3/survey-definitions/{1}\".format(\n",
    "\n",
    "    dataCenter, surveyId)\n",
    "\n",
    "headers = {\n",
    "\n",
    "    \"x-api-token\": apiToken,\n",
    "\n",
    "}\n",
    "\n",
    "\n",
    "response = requests.get(baseUrl, headers=headers)\n",
    "\n",
    "print(response.text)\n"
   ]
  }
 ],
 "metadata": {
  "language_info": {
   "name": "python"
  }
 },
 "nbformat": 4,
 "nbformat_minor": 2
}
