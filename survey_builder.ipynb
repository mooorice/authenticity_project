{
 "cells": [
  {
   "cell_type": "code",
   "execution_count": 1,
   "metadata": {},
   "outputs": [],
   "source": [
    "import os\n",
    "import requests\n",
    "import json\n",
    "import pandas as pd\n"
   ]
  },
  {
   "cell_type": "code",
   "execution_count": 2,
   "metadata": {},
   "outputs": [],
   "source": [
    "# Get image data from csv\n",
    "\n",
    "image_data = pd.read_csv('demo_data/image_data.csv')\n"
   ]
  },
  {
   "cell_type": "code",
   "execution_count": 3,
   "metadata": {},
   "outputs": [
    {
     "data": {
      "text/plain": [
       "'IM_ZCLKsKOa8J3KMQC'"
      ]
     },
     "execution_count": 3,
     "metadata": {},
     "output_type": "execute_result"
    }
   ],
   "source": [
    "# This is how to access the data\n",
    "\n",
    "image_data.iloc[0]['file_name']\n",
    "image_data.iloc[0]['im_id']\n"
   ]
  },
  {
   "cell_type": "code",
   "execution_count": 4,
   "metadata": {},
   "outputs": [
    {
     "name": "stdout",
     "output_type": "stream",
     "text": [
      "{\"result\":{\"brandId\":\"uniluzern\",\"userId\":\"UR_07fDIefOcsc7794\",\"userName\":\"maurice.flechtner@stud.unilu.ch#uniluzern\",\"accountType\":\"UT_3dBUKOs5wAT2mLW\",\"firstName\":\"Maurice\",\"lastName\":\"Flechtner\",\"email\":\"maurice.flechtner@stud.unilu.ch\",\"datacenter\":\"awsireland\"},\"meta\":{\"requestId\":\"441496ab-9581-4961-aa9e-1d03578a6ca0\",\"httpStatus\":\"200 - OK\"}}\n"
     ]
    }
   ],
   "source": [
    "# WhoAmI\n",
    "\n",
    "# Set up & check\n",
    "api_token = os.environ.get('api_token')\n",
    "data_center_id = os.environ.get('data_center_id')\n",
    "\n",
    "whoami_url = f\"https://{data_center_id}.qualtrics.com/API/v3/whoami\"\n",
    "\n",
    "headers = {\n",
    "    \"Content-Type\": \"application/json\",\n",
    "    \"X-API-TOKEN\": api_token\n",
    "}\n",
    "\n",
    "response = requests.request(\"GET\", whoami_url, headers=headers)\n",
    "\n",
    "pretty_response = json.dumps(response.json(), indent=4)\n",
    "\n",
    "print(pretty_response)\n"
   ]
  },
  {
   "cell_type": "code",
   "execution_count": null,
   "metadata": {},
   "outputs": [],
   "source": [
    "# Get the Library id\n",
    "\n",
    "url = \"https://{0}.qualtrics.com/API/v3/libraries/\".format(\n",
    "    data_center_id)\n",
    "\n",
    "headers = {\n",
    "    \"Content-Type\": \"application/json\",\n",
    "    \"X-API-TOKEN\": api_token\n",
    "}\n",
    "\n",
    "response = requests.request(\"GET\", url, headers=headers)\n",
    "\n",
    "library_id = json.loads(response.text)['result']['elements'][0]['libraryId']\n",
    "\n",
    "pretty_response = json.dumps(response.json(), indent=4)\n",
    "\n",
    "print(pretty_response)\n"
   ]
  },
  {
   "cell_type": "code",
   "execution_count": 26,
   "metadata": {},
   "outputs": [
    {
     "name": "stdout",
     "output_type": "stream",
     "text": [
      "{\n",
      "    \"meta\": {\n",
      "        \"httpStatus\": \"200 - OK\",\n",
      "        \"requestId\": \"f4c30dd5-a890-41ca-8682-b16ee8af838d\"\n",
      "    },\n",
      "    \"result\": {\n",
      "        \"SurveyID\": \"SV_dipUu69Szmv8Kou\",\n",
      "        \"DefaultBlockID\": \"BL_eWJmq09gN1idVDE\"\n",
      "    }\n",
      "}\n"
     ]
    }
   ],
   "source": [
    "# Create a new survey\n",
    "\n",
    "survey_name = \"Real API Survey Test\"\n",
    "\n",
    "baseUrl = \"https://{0}.qualtrics.com/API/v3/survey-definitions\".format(\n",
    "    data_center_id)\n",
    "headers = {\n",
    "    \"x-api-token\": api_token,\n",
    "    \"content-type\": \"application/json\",\n",
    "    \"Accept\": \"application/json\"\n",
    "}\n",
    "\n",
    "data = {\"SurveyName\": survey_name,\"Language\": \"EN\",\"ProjectCategory\": \"CORE\"}\n",
    "\n",
    "response = requests.post(baseUrl, json=data, headers=headers)\n",
    "\n",
    "survey_id = json.loads(response.text)['result']['SurveyID']\n",
    "\n",
    "pretty_response = json.dumps(response.json(), indent=4)\n",
    "\n",
    "print(pretty_response)\n"
   ]
  },
  {
   "cell_type": "code",
   "execution_count": 27,
   "metadata": {},
   "outputs": [
    {
     "name": "stdout",
     "output_type": "stream",
     "text": [
      "{\n",
      "    \"meta\": {\n",
      "        \"httpStatus\": \"200 - OK\",\n",
      "        \"requestId\": \"cf9b5d6d-7597-411d-9534-e2dcff41191d\"\n",
      "    },\n",
      "    \"result\": {\n",
      "        \"QuestionID\": \"QID48\"\n",
      "    }\n",
      "}\n"
     ]
    }
   ],
   "source": [
    "# Post a question for each image\n",
    "\n",
    "baseUrl = \"https://{0}.qualtrics.com/API/v3/survey-definitions/{1}/questions\".format(\n",
    "        data_center_id, survey_id)\n",
    "\n",
    "headers = {\n",
    "'accept': \"application/json\",\n",
    "'content-type': \"application/json\",\n",
    "\"x-api-token\": api_token,\n",
    "}\n",
    "\n",
    "for i in range(len(image_data)):\n",
    "\n",
    "    # Post an Image\n",
    "\n",
    "    image_def = {\n",
    "            \"QuestionText\": \"Please have a look at this image:<br>\",\n",
    "                    \"QuestionJS\": \"Qualtrics.SurveyEngine.addOnload(function() {\\n var inputId = 'QR~' + this.questionId;\\n var picker = new Pikaday(\\n    {\\n        field: document.getElementById(inputId),\\n        firstDay: 1,\\n        minDate: new Date(),\\n        maxDate: new Date(2020, 12, 31),\\n        yearRange: [2000,2020]\\n\\t});\\n});\\n\\nQualtrics.SurveyEngine.addOnReady(function()\\n{\\n\\t/*Place your JavaScript here to run when the page is fully displayed*/\\n\\n});\\n\\nQualtrics.SurveyEngine.addOnUnload(function()\\n{\\n\\t/*Place your JavaScript here to run when the page is unloaded*/\\n\\n});\",\n",
    "                    \"DefaultChoices\": False,\n",
    "                    \"DataExportTag\": f\"IM{i}\",\n",
    "                    \"QuestionID\": f\"IMID{i}\",\n",
    "                    \"QuestionType\": \"DB\",\n",
    "                    \"Selector\": \"GRB\",\n",
    "                    \"DataVisibility\": {\n",
    "                        \"Private\": False,\n",
    "                        \"Hidden\": False\n",
    "                    },\n",
    "                    \"Configuration\": {\n",
    "                        \"QuestionDescriptionOption\": \"UseText\"\n",
    "                    },\n",
    "                    \"QuestionDescription\": \"Please have a look at this image:\",\n",
    "                    \"ChoiceOrder\": [],\n",
    "                    \"Validation\": {\n",
    "                        \"Settings\": {\n",
    "                            \"Type\": \"None\"\n",
    "                        }\n",
    "                    },\n",
    "                    \"GradingData\": [],\n",
    "                    \"Language\": [],\n",
    "                    \"NextChoiceId\": 4,\n",
    "                    \"NextAnswerId\": 1,\n",
    "                    \"SubSelector\": \"WTXB\",\n",
    "                    \"Graphics\": f\"{image_data.iloc[i]['im_id']}\",\n",
    "                    \"GraphicsDescription\": f\"image {image_data.iloc[i]['file_name']}\",\n",
    "                    \"QuestionText_Unsafe\": \"Please have a look at this image:<br>\"\n",
    "                }\n",
    "\n",
    "    response_0 = requests.post(baseUrl, json=image_def, headers=headers)\n",
    "\n",
    "    # Post a multiple choice question\n",
    "\n",
    "    question_def = {\n",
    "         \"QuestionText\": \"Rate the authenticity of this image:\",\n",
    "                \"DefaultChoices\": False,\n",
    "                \"DataExportTag\": f\"Q{i}\",\n",
    "                \"QuestionType\": \"Slider\",\n",
    "                \"Selector\": \"HSLIDER\",\n",
    "                \"Configuration\": {\n",
    "                    \"QuestionDescriptionOption\": \"UseText\",\n",
    "                    \"CSSliderMin\": 0,\n",
    "                    \"CSSliderMax\": 100,\n",
    "                    \"GridLines\": 10,\n",
    "                    \"SnapToGrid\": False,\n",
    "                    \"NumDecimals\": \"0\",\n",
    "                    \"ShowValue\": True,\n",
    "                    \"CustomStart\": False,\n",
    "                    \"NotApplicable\": False,\n",
    "                    \"MobileFirst\": True\n",
    "                },\n",
    "                \"QuestionDescription\": \"Rate the authenticity of this image:\",\n",
    "                \"Choices\": {\n",
    "                    \"1\": {\n",
    "                        \"Display\": \"Authenticity\"\n",
    "                    },\n",
    "                    \"2\": {\n",
    "                        \"Display\": \"Product Placement\"\n",
    "                    },\n",
    "                    \"3\": {\n",
    "                        \"Display\": \"Originality\"\n",
    "                    }\n",
    "                },\n",
    "                \"ChoiceOrder\": [\n",
    "                    \"1\",\n",
    "                    \"2\",\n",
    "                    \"3\"\n",
    "                ],\n",
    "                \"Validation\": {\n",
    "                    \"Settings\": {\n",
    "                        \"ForceResponse\": \"OFF\",\n",
    "                        \"Type\": \"None\"\n",
    "                    }\n",
    "                },\n",
    "                \"GradingData\": [],\n",
    "                \"Language\": [],\n",
    "                \"NextChoiceId\": 4,\n",
    "                \"NextAnswerId\": 1,\n",
    "                \"Labels\": [],\n",
    "                \"QuestionID\": f\"QID{i}\",\n",
    "                \"QuestionText_Unsafe\": \"Rate the authenticity of this image:\"\n",
    "            }\n",
    "    response_1 = requests.post(baseUrl, json=question_def, headers=headers)\n",
    "\n",
    "pretty_response = json.dumps(response_0.json(), indent=4)\n",
    "\n",
    "print(pretty_response)\n"
   ]
  },
  {
   "cell_type": "code",
   "execution_count": 25,
   "metadata": {},
   "outputs": [
    {
     "name": "stdout",
     "output_type": "stream",
     "text": [
      "{\n",
      "    \"meta\": {\n",
      "        \"requestId\": \"9e49a851-b2c3-48f4-a669-4f2767af10b4\",\n",
      "        \"httpStatus\": \"403 - Forbidden\",\n",
      "        \"error\": {\n",
      "            \"errorCode\": \"QMST_2.1\",\n",
      "            \"errorMessage\": \"The operation is forbidden.\"\n",
      "        }\n",
      "    }\n",
      "}\n"
     ]
    }
   ],
   "source": [
    "pretty_response = json.dumps(response_1.json(), indent=4)\n",
    "\n",
    "print(pretty_response)\n"
   ]
  },
  {
   "cell_type": "code",
   "execution_count": null,
   "metadata": {},
   "outputs": [],
   "source": []
  }
 ],
 "metadata": {
  "kernelspec": {
   "display_name": "authenticity_env",
   "language": "python",
   "name": "python3"
  },
  "language_info": {
   "codemirror_mode": {
    "name": "ipython",
    "version": 3
   },
   "file_extension": ".py",
   "mimetype": "text/x-python",
   "name": "python",
   "nbconvert_exporter": "python",
   "pygments_lexer": "ipython3",
   "version": "3.11.3"
  }
 },
 "nbformat": 4,
 "nbformat_minor": 2
}
